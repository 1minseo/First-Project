{
 "cells": [
  {
   "cell_type": "code",
   "execution_count": 5,
   "metadata": {},
   "outputs": [],
   "source": [
    "from selenium import webdriver\n",
    "from bs4 import BeautifulSoup as bs\n",
    "import time\n",
    "import pandas as pd\n",
    "from selenium import webdriver\n",
    "from selenium.webdriver.common.keys import Keys\n",
    "from selenium.webdriver.common.by import By"
   ]
  },
  {
   "cell_type": "code",
   "execution_count": 6,
   "metadata": {},
   "outputs": [],
   "source": [
    "url = 'https://map.kakao.com'\n",
    "driver = webdriver.Chrome()\n",
    "driver.get(url)\n",
    "\n",
    "# 지도 설정 이미지 클릭\n",
    "img = driver.find_element(By.CLASS_NAME, 'inner_coach_layer')\n",
    "img.click()\n",
    "\n",
    "# 검색창에 '제주도 마트' 입력\n",
    "search = driver.find_element(By.ID, 'search.keyword.query')\n",
    "search.send_keys(\"제주도 마트\")\n",
    "\n",
    "driver.find_element(By.CLASS_NAME, 'go.ico_search.btn_search.active').click()"
   ]
  },
  {
   "cell_type": "code",
   "execution_count": 7,
   "metadata": {},
   "outputs": [],
   "source": [
    "# 장소 더보기 클릭\n",
    "btnMore = driver.find_element(By.ID, \"info.search.place.more\")\n",
    "btnMore.click()\n",
    "\n",
    "# 페이지 번호 수집\n",
    "page = driver.find_elements(By.ID, \"info.search.page > div > a\")"
   ]
  },
  {
   "cell_type": "code",
   "execution_count": null,
   "metadata": {},
   "outputs": [],
   "source": [
    "data = [] # 크롤링 데이터를 저장할 빈 리스트 생성\n",
    "for i in range(1, 8):\n",
    "    if i == 1:\n",
    "        for j in range (1, 6):\n",
    "            \n",
    "            driver.find_element(By.ID, f\"info.search.page.no{j}\").click()\n",
    "            time.sleep(2) # 2초 동안 대기\n",
    "            soup = bs(driver.page_source, \"lxml\") # 현재 페이지의 HTML 소스를 파싱\n",
    "            titles = soup.select(\"a.link_name\")\n",
    "            addresses = soup.select('.addr')\n",
    "            scores = soup.select(\".rating.clickArea > .score\")\n",
    "\n",
    "            title_texts = [title.text for title in titles]\n",
    "            address_texts = [address.text for address in addresses]\n",
    "            score_texts = [score.text for score in scores]\n",
    "\n",
    "            # zip함수를 사용하여 세 리스트를 하나로 묶고, 딕셔너리 형태로 변환\n",
    "            for title_text, address_text, score_text in zip(title_texts, address_texts, score_texts):\n",
    "                data.append({'이름': title_text, '주소': address_text, '평점': score_text})\n",
    "    else:\n",
    "        more = driver.find_element(By.ID, \"info.search.page.next\")\n",
    "        more.click()\n",
    "        for j in range (1, 6):\n",
    "            driver.find_element(By.ID, f\"info.search.page.no{j}\").click()\n",
    "            time.sleep(2) \n",
    "            soup = bs(driver.page_source, \"lxml\")\n",
    "            titles = soup.select(\"a.link_name\")\n",
    "            addresses = soup.select('.addr')\n",
    "            scores = soup.select(\".rating.clickArea > .score\")\n",
    "\n",
    "            title_texts = [title.text for title in titles]\n",
    "            address_texts = [address.text for address in addresses]\n",
    "            score_texts = [score.text for score in scores]\n",
    "            for title_text, address_text, score_text in zip(title_texts, address_texts, score_texts):\n",
    "                data.append({'이름': title_text, '주소': address_text, '평점': score_text})"
   ]
  },
  {
   "cell_type": "code",
   "execution_count": 5,
   "metadata": {},
   "outputs": [
    {
     "data": {
      "text/plain": [
       "500"
      ]
     },
     "execution_count": 5,
     "metadata": {},
     "output_type": "execute_result"
    }
   ],
   "source": [
    "len(data) # 리스트의 원소 개수"
   ]
  },
  {
   "cell_type": "code",
   "execution_count": 6,
   "metadata": {},
   "outputs": [],
   "source": [
    "df = pd.DataFrame(data) # 데이터프레임으로 만들기\n",
    "df.to_csv(\"제주도 마트_크롤링 결과.csv\")"
   ]
  },
  {
   "cell_type": "code",
   "execution_count": 7,
   "metadata": {},
   "outputs": [
    {
     "data": {
      "text/html": [
       "<div>\n",
       "<style scoped>\n",
       "    .dataframe tbody tr th:only-of-type {\n",
       "        vertical-align: middle;\n",
       "    }\n",
       "\n",
       "    .dataframe tbody tr th {\n",
       "        vertical-align: top;\n",
       "    }\n",
       "\n",
       "    .dataframe thead th {\n",
       "        text-align: right;\n",
       "    }\n",
       "</style>\n",
       "<table border=\"1\" class=\"dataframe\">\n",
       "  <thead>\n",
       "    <tr style=\"text-align: right;\">\n",
       "      <th></th>\n",
       "      <th>이름</th>\n",
       "      <th>주소</th>\n",
       "      <th>평점</th>\n",
       "    </tr>\n",
       "  </thead>\n",
       "  <tbody>\n",
       "    <tr>\n",
       "      <th>495</th>\n",
       "      <td>정희마트</td>\n",
       "      <td>\\n제주특별자치도 제주시 동문로21길 21\\n(지번) 건입동 1043-1\\n</td>\n",
       "      <td>\\n별점\\n0.0\\n\\n\\n\\n0건\\n</td>\n",
       "    </tr>\n",
       "    <tr>\n",
       "      <th>496</th>\n",
       "      <td>한아름 낚시마트</td>\n",
       "      <td>\\n제주특별자치도 서귀포시 남원읍 태위로 932\\n(지번) 남원읍 태흥리 483-2\\n</td>\n",
       "      <td>\\n별점\\n0.0\\n\\n\\n\\n0건\\n</td>\n",
       "    </tr>\n",
       "    <tr>\n",
       "      <th>497</th>\n",
       "      <td>유신종합마트</td>\n",
       "      <td>\\n제주특별자치도 제주시 동문로2길 9\\n(지번) 일도일동 1481-2\\n</td>\n",
       "      <td>\\n별점\\n0.0\\n\\n\\n\\n0건\\n</td>\n",
       "    </tr>\n",
       "    <tr>\n",
       "      <th>498</th>\n",
       "      <td>조천농협하나로마트 주차장</td>\n",
       "      <td>\\n제주특별자치도 제주시 조천읍 신북로 240\\n(지번) 조천읍 조천리 2325-1\\n</td>\n",
       "      <td>\\n별점\\n0.0\\n\\n\\n\\n0건\\n</td>\n",
       "    </tr>\n",
       "    <tr>\n",
       "      <th>499</th>\n",
       "      <td>코사마트 추자점</td>\n",
       "      <td>\\n제주특별자치도 제주시 추자면 추자로 18-1\\n(지번) 추자면 대서리 8-9\\n</td>\n",
       "      <td>\\n별점\\n5.0\\n\\n\\n\\n1건\\n</td>\n",
       "    </tr>\n",
       "  </tbody>\n",
       "</table>\n",
       "</div>"
      ],
      "text/plain": [
       "                이름                                                주소  \\\n",
       "495           정희마트        \\n제주특별자치도 제주시 동문로21길 21\\n(지번) 건입동 1043-1\\n   \n",
       "496       한아름 낚시마트  \\n제주특별자치도 서귀포시 남원읍 태위로 932\\n(지번) 남원읍 태흥리 483-2\\n   \n",
       "497         유신종합마트         \\n제주특별자치도 제주시 동문로2길 9\\n(지번) 일도일동 1481-2\\n   \n",
       "498  조천농협하나로마트 주차장  \\n제주특별자치도 제주시 조천읍 신북로 240\\n(지번) 조천읍 조천리 2325-1\\n   \n",
       "499       코사마트 추자점    \\n제주특별자치도 제주시 추자면 추자로 18-1\\n(지번) 추자면 대서리 8-9\\n   \n",
       "\n",
       "                        평점  \n",
       "495  \\n별점\\n0.0\\n\\n\\n\\n0건\\n  \n",
       "496  \\n별점\\n0.0\\n\\n\\n\\n0건\\n  \n",
       "497  \\n별점\\n0.0\\n\\n\\n\\n0건\\n  \n",
       "498  \\n별점\\n0.0\\n\\n\\n\\n0건\\n  \n",
       "499  \\n별점\\n5.0\\n\\n\\n\\n1건\\n  "
      ]
     },
     "execution_count": 7,
     "metadata": {},
     "output_type": "execute_result"
    }
   ],
   "source": [
    "df.tail()"
   ]
  }
 ],
 "metadata": {
  "kernelspec": {
   "display_name": "Python 3",
   "language": "python",
   "name": "python3"
  },
  "language_info": {
   "codemirror_mode": {
    "name": "ipython",
    "version": 3
   },
   "file_extension": ".py",
   "mimetype": "text/x-python",
   "name": "python",
   "nbconvert_exporter": "python",
   "pygments_lexer": "ipython3",
   "version": "3.9.12"
  }
 },
 "nbformat": 4,
 "nbformat_minor": 2
}
