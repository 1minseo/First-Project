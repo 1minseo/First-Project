{
 "cells": [
  {
   "cell_type": "code",
   "execution_count": 1,
   "metadata": {},
   "outputs": [],
   "source": [
    "from selenium import webdriver\n",
    "from bs4 import BeautifulSoup as bs\n",
    "import time\n",
    "import pandas as pd\n",
    "from selenium import webdriver\n",
    "from selenium.webdriver.common.keys import Keys\n",
    "from selenium.webdriver.common.by import By"
   ]
  },
  {
   "cell_type": "code",
   "execution_count": 2,
   "metadata": {},
   "outputs": [],
   "source": [
    "url = 'https://map.kakao.com'\n",
    "driver = webdriver.Chrome()\n",
    "driver.get(url)\n",
    "\n",
    "img=driver.find_element(By.CLASS_NAME, 'inner_coach_layer')\n",
    "img.click()\n",
    "\n",
    "search=driver.find_element(By.ID, 'search.keyword.query')\n",
    "search.send_keys(\"제주도 마트\")\n",
    "\n",
    "driver.find_element(By.CLASS_NAME, 'go.ico_search.btn_search.active').click()"
   ]
  },
  {
   "cell_type": "code",
   "execution_count": 3,
   "metadata": {},
   "outputs": [],
   "source": [
    "btnMore=driver.find_element(By.ID, \"info.search.place.more\")\n",
    "btnMore.click()\n",
    "\n",
    "page=driver.find_elements(By.ID, \"info.search.page > div > a\")"
   ]
  },
  {
   "cell_type": "code",
   "execution_count": 64,
   "metadata": {},
   "outputs": [
    {
     "ename": "NoSuchWindowException",
     "evalue": "Message: no such window: target window already closed\nfrom unknown error: web view not found\n  (Session info: chrome=120.0.6099.131)\nStacktrace:\n\tGetHandleVerifier [0x00007FF701322142+3514994]\n\t(No symbol) [0x00007FF700F40CE2]\n\t(No symbol) [0x00007FF700DE76AA]\n\t(No symbol) [0x00007FF700DC0AFD]\n\t(No symbol) [0x00007FF700E5CB1B]\n\t(No symbol) [0x00007FF700E7218F]\n\t(No symbol) [0x00007FF700E55D93]\n\t(No symbol) [0x00007FF700E24BDC]\n\t(No symbol) [0x00007FF700E25C64]\n\tGetHandleVerifier [0x00007FF70134E16B+3695259]\n\tGetHandleVerifier [0x00007FF7013A6737+4057191]\n\tGetHandleVerifier [0x00007FF70139E4E3+4023827]\n\tGetHandleVerifier [0x00007FF7010704F9+689705]\n\t(No symbol) [0x00007FF700F4C048]\n\t(No symbol) [0x00007FF700F48044]\n\t(No symbol) [0x00007FF700F481C9]\n\t(No symbol) [0x00007FF700F388C4]\n\tBaseThreadInitThunk [0x00007FFF8CBA7344+20]\n\tRtlUserThreadStart [0x00007FFF8CEC26B1+33]\n",
     "output_type": "error",
     "traceback": [
      "\u001b[1;31m---------------------------------------------------------------------------\u001b[0m",
      "\u001b[1;31mNoSuchWindowException\u001b[0m                     Traceback (most recent call last)",
      "Cell \u001b[1;32mIn[64], line 5\u001b[0m\n\u001b[0;32m      3\u001b[0m driver\u001b[38;5;241m.\u001b[39mfind_element(By\u001b[38;5;241m.\u001b[39mID, \u001b[38;5;124mf\u001b[39m\u001b[38;5;124m\"\u001b[39m\u001b[38;5;124minfo.search.page.no\u001b[39m\u001b[38;5;132;01m{\u001b[39;00mi\u001b[38;5;132;01m}\u001b[39;00m\u001b[38;5;124m\"\u001b[39m)\u001b[38;5;241m.\u001b[39mclick()\n\u001b[0;32m      4\u001b[0m time\u001b[38;5;241m.\u001b[39msleep(\u001b[38;5;241m2\u001b[39m) \n\u001b[1;32m----> 5\u001b[0m soup \u001b[38;5;241m=\u001b[39m bs(\u001b[43mdriver\u001b[49m\u001b[38;5;241;43m.\u001b[39;49m\u001b[43mpage_source\u001b[49m, \u001b[38;5;124m\"\u001b[39m\u001b[38;5;124mlxml\u001b[39m\u001b[38;5;124m\"\u001b[39m)\n\u001b[0;32m      6\u001b[0m titles \u001b[38;5;241m=\u001b[39m soup\u001b[38;5;241m.\u001b[39mselect(\u001b[38;5;124m\"\u001b[39m\u001b[38;5;124ma.link_name\u001b[39m\u001b[38;5;124m\"\u001b[39m)\n\u001b[0;32m      7\u001b[0m addresses \u001b[38;5;241m=\u001b[39m soup\u001b[38;5;241m.\u001b[39mselect(\u001b[38;5;124m'\u001b[39m\u001b[38;5;124m.addr\u001b[39m\u001b[38;5;124m'\u001b[39m)\n",
      "File \u001b[1;32mc:\\Python39\\lib\\site-packages\\selenium\\webdriver\\remote\\webdriver.py:449\u001b[0m, in \u001b[0;36mWebDriver.page_source\u001b[1;34m(self)\u001b[0m\n\u001b[0;32m    440\u001b[0m \u001b[38;5;129m@property\u001b[39m\n\u001b[0;32m    441\u001b[0m \u001b[38;5;28;01mdef\u001b[39;00m \u001b[38;5;21mpage_source\u001b[39m(\u001b[38;5;28mself\u001b[39m) \u001b[38;5;241m-\u001b[39m\u001b[38;5;241m>\u001b[39m \u001b[38;5;28mstr\u001b[39m:\n\u001b[0;32m    442\u001b[0m \u001b[38;5;250m    \u001b[39m\u001b[38;5;124;03m\"\"\"Gets the source of the current page.\u001b[39;00m\n\u001b[0;32m    443\u001b[0m \n\u001b[0;32m    444\u001b[0m \u001b[38;5;124;03m    :Usage:\u001b[39;00m\n\u001b[1;32m   (...)\u001b[0m\n\u001b[0;32m    447\u001b[0m \u001b[38;5;124;03m            driver.page_source\u001b[39;00m\n\u001b[0;32m    448\u001b[0m \u001b[38;5;124;03m    \"\"\"\u001b[39;00m\n\u001b[1;32m--> 449\u001b[0m     \u001b[38;5;28;01mreturn\u001b[39;00m \u001b[38;5;28;43mself\u001b[39;49m\u001b[38;5;241;43m.\u001b[39;49m\u001b[43mexecute\u001b[49m\u001b[43m(\u001b[49m\u001b[43mCommand\u001b[49m\u001b[38;5;241;43m.\u001b[39;49m\u001b[43mGET_PAGE_SOURCE\u001b[49m\u001b[43m)\u001b[49m[\u001b[38;5;124m\"\u001b[39m\u001b[38;5;124mvalue\u001b[39m\u001b[38;5;124m\"\u001b[39m]\n",
      "File \u001b[1;32mc:\\Python39\\lib\\site-packages\\selenium\\webdriver\\remote\\webdriver.py:348\u001b[0m, in \u001b[0;36mWebDriver.execute\u001b[1;34m(self, driver_command, params)\u001b[0m\n\u001b[0;32m    346\u001b[0m response \u001b[38;5;241m=\u001b[39m \u001b[38;5;28mself\u001b[39m\u001b[38;5;241m.\u001b[39mcommand_executor\u001b[38;5;241m.\u001b[39mexecute(driver_command, params)\n\u001b[0;32m    347\u001b[0m \u001b[38;5;28;01mif\u001b[39;00m response:\n\u001b[1;32m--> 348\u001b[0m     \u001b[38;5;28;43mself\u001b[39;49m\u001b[38;5;241;43m.\u001b[39;49m\u001b[43merror_handler\u001b[49m\u001b[38;5;241;43m.\u001b[39;49m\u001b[43mcheck_response\u001b[49m\u001b[43m(\u001b[49m\u001b[43mresponse\u001b[49m\u001b[43m)\u001b[49m\n\u001b[0;32m    349\u001b[0m     response[\u001b[38;5;124m\"\u001b[39m\u001b[38;5;124mvalue\u001b[39m\u001b[38;5;124m\"\u001b[39m] \u001b[38;5;241m=\u001b[39m \u001b[38;5;28mself\u001b[39m\u001b[38;5;241m.\u001b[39m_unwrap_value(response\u001b[38;5;241m.\u001b[39mget(\u001b[38;5;124m\"\u001b[39m\u001b[38;5;124mvalue\u001b[39m\u001b[38;5;124m\"\u001b[39m, \u001b[38;5;28;01mNone\u001b[39;00m))\n\u001b[0;32m    350\u001b[0m     \u001b[38;5;28;01mreturn\u001b[39;00m response\n",
      "File \u001b[1;32mc:\\Python39\\lib\\site-packages\\selenium\\webdriver\\remote\\errorhandler.py:229\u001b[0m, in \u001b[0;36mErrorHandler.check_response\u001b[1;34m(self, response)\u001b[0m\n\u001b[0;32m    227\u001b[0m         alert_text \u001b[38;5;241m=\u001b[39m value[\u001b[38;5;124m\"\u001b[39m\u001b[38;5;124malert\u001b[39m\u001b[38;5;124m\"\u001b[39m]\u001b[38;5;241m.\u001b[39mget(\u001b[38;5;124m\"\u001b[39m\u001b[38;5;124mtext\u001b[39m\u001b[38;5;124m\"\u001b[39m)\n\u001b[0;32m    228\u001b[0m     \u001b[38;5;28;01mraise\u001b[39;00m exception_class(message, screen, stacktrace, alert_text)  \u001b[38;5;66;03m# type: ignore[call-arg]  # mypy is not smart enough here\u001b[39;00m\n\u001b[1;32m--> 229\u001b[0m \u001b[38;5;28;01mraise\u001b[39;00m exception_class(message, screen, stacktrace)\n",
      "\u001b[1;31mNoSuchWindowException\u001b[0m: Message: no such window: target window already closed\nfrom unknown error: web view not found\n  (Session info: chrome=120.0.6099.131)\nStacktrace:\n\tGetHandleVerifier [0x00007FF701322142+3514994]\n\t(No symbol) [0x00007FF700F40CE2]\n\t(No symbol) [0x00007FF700DE76AA]\n\t(No symbol) [0x00007FF700DC0AFD]\n\t(No symbol) [0x00007FF700E5CB1B]\n\t(No symbol) [0x00007FF700E7218F]\n\t(No symbol) [0x00007FF700E55D93]\n\t(No symbol) [0x00007FF700E24BDC]\n\t(No symbol) [0x00007FF700E25C64]\n\tGetHandleVerifier [0x00007FF70134E16B+3695259]\n\tGetHandleVerifier [0x00007FF7013A6737+4057191]\n\tGetHandleVerifier [0x00007FF70139E4E3+4023827]\n\tGetHandleVerifier [0x00007FF7010704F9+689705]\n\t(No symbol) [0x00007FF700F4C048]\n\t(No symbol) [0x00007FF700F48044]\n\t(No symbol) [0x00007FF700F481C9]\n\t(No symbol) [0x00007FF700F388C4]\n\tBaseThreadInitThunk [0x00007FFF8CBA7344+20]\n\tRtlUserThreadStart [0x00007FFF8CEC26B1+33]\n"
     ]
    }
   ],
   "source": [
    "# data = []\n",
    "# for i in range (1, 6):\n",
    "#     driver.find_element(By.ID, f\"info.search.page.no{i}\").click()\n",
    "#     time.sleep(2) \n",
    "#     soup = bs(driver.page_source, \"lxml\")\n",
    "#     titles = soup.select(\"a.link_name\")\n",
    "#     addresses = soup.select('.addr')\n",
    "#     scores = soup.select(\".rating.clickArea > .score\")\n",
    "\n",
    "#     title_texts = [title.text for title in titles]\n",
    "#     address_texts = [address.text for address in addresses]\n",
    "#     score_texts = [score.text for score in scores]\n",
    "#     for title_text, address_text, score_text in zip(title_texts, address_texts, score_texts):\n",
    "#                 data.append({'이름': title_text, '주소': address_text, '평점': score_text})"
   ]
  },
  {
   "cell_type": "code",
   "execution_count": 4,
   "metadata": {},
   "outputs": [
    {
     "ename": "ElementNotInteractableException",
     "evalue": "Message: element not interactable\n  (Session info: chrome=120.0.6099.131)\nStacktrace:\n\tGetHandleVerifier [0x00007FF68F982142+3514994]\n\t(No symbol) [0x00007FF68F5A0CE2]\n\t(No symbol) [0x00007FF68F4474C3]\n\t(No symbol) [0x00007FF68F492D29]\n\t(No symbol) [0x00007FF68F486A0F]\n\t(No symbol) [0x00007FF68F4B5FEA]\n\t(No symbol) [0x00007FF68F4863B6]\n\t(No symbol) [0x00007FF68F4B6490]\n\t(No symbol) [0x00007FF68F4D28F6]\n\t(No symbol) [0x00007FF68F4B5D93]\n\t(No symbol) [0x00007FF68F484BDC]\n\t(No symbol) [0x00007FF68F485C64]\n\tGetHandleVerifier [0x00007FF68F9AE16B+3695259]\n\tGetHandleVerifier [0x00007FF68FA06737+4057191]\n\tGetHandleVerifier [0x00007FF68F9FE4E3+4023827]\n\tGetHandleVerifier [0x00007FF68F6D04F9+689705]\n\t(No symbol) [0x00007FF68F5AC048]\n\t(No symbol) [0x00007FF68F5A8044]\n\t(No symbol) [0x00007FF68F5A81C9]\n\t(No symbol) [0x00007FF68F5988C4]\n\tBaseThreadInitThunk [0x00007FFFF5767344+20]\n\tRtlUserThreadStart [0x00007FFFF6DC26B1+33]\n",
     "output_type": "error",
     "traceback": [
      "\u001b[1;31m---------------------------------------------------------------------------\u001b[0m",
      "\u001b[1;31mElementNotInteractableException\u001b[0m           Traceback (most recent call last)",
      "Cell \u001b[1;32mIn[4], line 22\u001b[0m\n\u001b[0;32m     20\u001b[0m more\u001b[38;5;241m.\u001b[39mclick()\n\u001b[0;32m     21\u001b[0m \u001b[38;5;28;01mfor\u001b[39;00m i \u001b[38;5;129;01min\u001b[39;00m \u001b[38;5;28mrange\u001b[39m (\u001b[38;5;241m1\u001b[39m, \u001b[38;5;241m6\u001b[39m):\n\u001b[1;32m---> 22\u001b[0m     \u001b[43mdriver\u001b[49m\u001b[38;5;241;43m.\u001b[39;49m\u001b[43mfind_element\u001b[49m\u001b[43m(\u001b[49m\u001b[43mBy\u001b[49m\u001b[38;5;241;43m.\u001b[39;49m\u001b[43mID\u001b[49m\u001b[43m,\u001b[49m\u001b[43m \u001b[49m\u001b[38;5;124;43mf\u001b[39;49m\u001b[38;5;124;43m\"\u001b[39;49m\u001b[38;5;124;43minfo.search.page.no\u001b[39;49m\u001b[38;5;132;43;01m{\u001b[39;49;00m\u001b[43mi\u001b[49m\u001b[38;5;132;43;01m}\u001b[39;49;00m\u001b[38;5;124;43m\"\u001b[39;49m\u001b[43m)\u001b[49m\u001b[38;5;241;43m.\u001b[39;49m\u001b[43mclick\u001b[49m\u001b[43m(\u001b[49m\u001b[43m)\u001b[49m\n\u001b[0;32m     23\u001b[0m     time\u001b[38;5;241m.\u001b[39msleep(\u001b[38;5;241m2\u001b[39m) \n\u001b[0;32m     24\u001b[0m     soup \u001b[38;5;241m=\u001b[39m bs(driver\u001b[38;5;241m.\u001b[39mpage_source, \u001b[38;5;124m\"\u001b[39m\u001b[38;5;124mlxml\u001b[39m\u001b[38;5;124m\"\u001b[39m)\n",
      "File \u001b[1;32mc:\\Python39\\lib\\site-packages\\selenium\\webdriver\\remote\\webelement.py:94\u001b[0m, in \u001b[0;36mWebElement.click\u001b[1;34m(self)\u001b[0m\n\u001b[0;32m     92\u001b[0m \u001b[38;5;28;01mdef\u001b[39;00m \u001b[38;5;21mclick\u001b[39m(\u001b[38;5;28mself\u001b[39m) \u001b[38;5;241m-\u001b[39m\u001b[38;5;241m>\u001b[39m \u001b[38;5;28;01mNone\u001b[39;00m:\n\u001b[0;32m     93\u001b[0m \u001b[38;5;250m    \u001b[39m\u001b[38;5;124;03m\"\"\"Clicks the element.\"\"\"\u001b[39;00m\n\u001b[1;32m---> 94\u001b[0m     \u001b[38;5;28;43mself\u001b[39;49m\u001b[38;5;241;43m.\u001b[39;49m\u001b[43m_execute\u001b[49m\u001b[43m(\u001b[49m\u001b[43mCommand\u001b[49m\u001b[38;5;241;43m.\u001b[39;49m\u001b[43mCLICK_ELEMENT\u001b[49m\u001b[43m)\u001b[49m\n",
      "File \u001b[1;32mc:\\Python39\\lib\\site-packages\\selenium\\webdriver\\remote\\webelement.py:395\u001b[0m, in \u001b[0;36mWebElement._execute\u001b[1;34m(self, command, params)\u001b[0m\n\u001b[0;32m    393\u001b[0m     params \u001b[38;5;241m=\u001b[39m {}\n\u001b[0;32m    394\u001b[0m params[\u001b[38;5;124m\"\u001b[39m\u001b[38;5;124mid\u001b[39m\u001b[38;5;124m\"\u001b[39m] \u001b[38;5;241m=\u001b[39m \u001b[38;5;28mself\u001b[39m\u001b[38;5;241m.\u001b[39m_id\n\u001b[1;32m--> 395\u001b[0m \u001b[38;5;28;01mreturn\u001b[39;00m \u001b[38;5;28;43mself\u001b[39;49m\u001b[38;5;241;43m.\u001b[39;49m\u001b[43m_parent\u001b[49m\u001b[38;5;241;43m.\u001b[39;49m\u001b[43mexecute\u001b[49m\u001b[43m(\u001b[49m\u001b[43mcommand\u001b[49m\u001b[43m,\u001b[49m\u001b[43m \u001b[49m\u001b[43mparams\u001b[49m\u001b[43m)\u001b[49m\n",
      "File \u001b[1;32mc:\\Python39\\lib\\site-packages\\selenium\\webdriver\\remote\\webdriver.py:348\u001b[0m, in \u001b[0;36mWebDriver.execute\u001b[1;34m(self, driver_command, params)\u001b[0m\n\u001b[0;32m    346\u001b[0m response \u001b[38;5;241m=\u001b[39m \u001b[38;5;28mself\u001b[39m\u001b[38;5;241m.\u001b[39mcommand_executor\u001b[38;5;241m.\u001b[39mexecute(driver_command, params)\n\u001b[0;32m    347\u001b[0m \u001b[38;5;28;01mif\u001b[39;00m response:\n\u001b[1;32m--> 348\u001b[0m     \u001b[38;5;28;43mself\u001b[39;49m\u001b[38;5;241;43m.\u001b[39;49m\u001b[43merror_handler\u001b[49m\u001b[38;5;241;43m.\u001b[39;49m\u001b[43mcheck_response\u001b[49m\u001b[43m(\u001b[49m\u001b[43mresponse\u001b[49m\u001b[43m)\u001b[49m\n\u001b[0;32m    349\u001b[0m     response[\u001b[38;5;124m\"\u001b[39m\u001b[38;5;124mvalue\u001b[39m\u001b[38;5;124m\"\u001b[39m] \u001b[38;5;241m=\u001b[39m \u001b[38;5;28mself\u001b[39m\u001b[38;5;241m.\u001b[39m_unwrap_value(response\u001b[38;5;241m.\u001b[39mget(\u001b[38;5;124m\"\u001b[39m\u001b[38;5;124mvalue\u001b[39m\u001b[38;5;124m\"\u001b[39m, \u001b[38;5;28;01mNone\u001b[39;00m))\n\u001b[0;32m    350\u001b[0m     \u001b[38;5;28;01mreturn\u001b[39;00m response\n",
      "File \u001b[1;32mc:\\Python39\\lib\\site-packages\\selenium\\webdriver\\remote\\errorhandler.py:229\u001b[0m, in \u001b[0;36mErrorHandler.check_response\u001b[1;34m(self, response)\u001b[0m\n\u001b[0;32m    227\u001b[0m         alert_text \u001b[38;5;241m=\u001b[39m value[\u001b[38;5;124m\"\u001b[39m\u001b[38;5;124malert\u001b[39m\u001b[38;5;124m\"\u001b[39m]\u001b[38;5;241m.\u001b[39mget(\u001b[38;5;124m\"\u001b[39m\u001b[38;5;124mtext\u001b[39m\u001b[38;5;124m\"\u001b[39m)\n\u001b[0;32m    228\u001b[0m     \u001b[38;5;28;01mraise\u001b[39;00m exception_class(message, screen, stacktrace, alert_text)  \u001b[38;5;66;03m# type: ignore[call-arg]  # mypy is not smart enough here\u001b[39;00m\n\u001b[1;32m--> 229\u001b[0m \u001b[38;5;28;01mraise\u001b[39;00m exception_class(message, screen, stacktrace)\n",
      "\u001b[1;31mElementNotInteractableException\u001b[0m: Message: element not interactable\n  (Session info: chrome=120.0.6099.131)\nStacktrace:\n\tGetHandleVerifier [0x00007FF68F982142+3514994]\n\t(No symbol) [0x00007FF68F5A0CE2]\n\t(No symbol) [0x00007FF68F4474C3]\n\t(No symbol) [0x00007FF68F492D29]\n\t(No symbol) [0x00007FF68F486A0F]\n\t(No symbol) [0x00007FF68F4B5FEA]\n\t(No symbol) [0x00007FF68F4863B6]\n\t(No symbol) [0x00007FF68F4B6490]\n\t(No symbol) [0x00007FF68F4D28F6]\n\t(No symbol) [0x00007FF68F4B5D93]\n\t(No symbol) [0x00007FF68F484BDC]\n\t(No symbol) [0x00007FF68F485C64]\n\tGetHandleVerifier [0x00007FF68F9AE16B+3695259]\n\tGetHandleVerifier [0x00007FF68FA06737+4057191]\n\tGetHandleVerifier [0x00007FF68F9FE4E3+4023827]\n\tGetHandleVerifier [0x00007FF68F6D04F9+689705]\n\t(No symbol) [0x00007FF68F5AC048]\n\t(No symbol) [0x00007FF68F5A8044]\n\t(No symbol) [0x00007FF68F5A81C9]\n\t(No symbol) [0x00007FF68F5988C4]\n\tBaseThreadInitThunk [0x00007FFFF5767344+20]\n\tRtlUserThreadStart [0x00007FFFF6DC26B1+33]\n"
     ]
    }
   ],
   "source": [
    "data = []\n",
    "for i in range(1, 8):\n",
    "    if i == 1:\n",
    "        for i in range (1, 6):\n",
    "            \n",
    "            driver.find_element(By.ID, f\"info.search.page.no{i}\").click()\n",
    "            time.sleep(2) \n",
    "            soup = bs(driver.page_source, \"lxml\")\n",
    "            titles = soup.select(\"a.link_name\")\n",
    "            addresses = soup.select('.addr')\n",
    "            scores = soup.select(\".rating.clickArea > .score\")\n",
    "\n",
    "            title_texts = [title.text for title in titles]\n",
    "            address_texts = [address.text for address in addresses]\n",
    "            score_texts = [score.text for score in scores]\n",
    "            for title_text, address_text, score_text in zip(title_texts, address_texts, score_texts):\n",
    "                data.append({'이름': title_text, '주소': address_text, '평점': score_text})\n",
    "    else:\n",
    "        more=driver.find_element(By.ID, \"info.search.page.next\")\n",
    "        more.click()\n",
    "        for i in range (1, 6):\n",
    "            driver.find_element(By.ID, f\"info.search.page.no{i}\").click()\n",
    "            time.sleep(2) \n",
    "            soup = bs(driver.page_source, \"lxml\")\n",
    "            titles = soup.select(\"a.link_name\")\n",
    "            addresses = soup.select('.addr')\n",
    "            scores = soup.select(\".rating.clickArea > .score\")\n",
    "\n",
    "            title_texts = [title.text for title in titles]\n",
    "            address_texts = [address.text for address in addresses]\n",
    "            score_texts = [score.text for score in scores]\n",
    "            for title_text, address_text, score_text in zip(title_texts, address_texts, score_texts):\n",
    "                data.append({'이름': title_text, '주소': address_text, '평점': score_text})"
   ]
  },
  {
   "cell_type": "code",
   "execution_count": 5,
   "metadata": {},
   "outputs": [
    {
     "data": {
      "text/plain": [
       "500"
      ]
     },
     "execution_count": 5,
     "metadata": {},
     "output_type": "execute_result"
    }
   ],
   "source": [
    "len(data)"
   ]
  },
  {
   "cell_type": "code",
   "execution_count": 6,
   "metadata": {},
   "outputs": [],
   "source": [
    "df=pd.DataFrame(data) #데이터프레임으로 만들기\n",
    "df.to_csv(\"제주도마트.csv\")"
   ]
  },
  {
   "cell_type": "code",
   "execution_count": 7,
   "metadata": {},
   "outputs": [
    {
     "data": {
      "text/html": [
       "<div>\n",
       "<style scoped>\n",
       "    .dataframe tbody tr th:only-of-type {\n",
       "        vertical-align: middle;\n",
       "    }\n",
       "\n",
       "    .dataframe tbody tr th {\n",
       "        vertical-align: top;\n",
       "    }\n",
       "\n",
       "    .dataframe thead th {\n",
       "        text-align: right;\n",
       "    }\n",
       "</style>\n",
       "<table border=\"1\" class=\"dataframe\">\n",
       "  <thead>\n",
       "    <tr style=\"text-align: right;\">\n",
       "      <th></th>\n",
       "      <th>이름</th>\n",
       "      <th>주소</th>\n",
       "      <th>평점</th>\n",
       "    </tr>\n",
       "  </thead>\n",
       "  <tbody>\n",
       "    <tr>\n",
       "      <th>495</th>\n",
       "      <td>정희마트</td>\n",
       "      <td>\\n제주특별자치도 제주시 동문로21길 21\\n(지번) 건입동 1043-1\\n</td>\n",
       "      <td>\\n별점\\n0.0\\n\\n\\n\\n0건\\n</td>\n",
       "    </tr>\n",
       "    <tr>\n",
       "      <th>496</th>\n",
       "      <td>한아름 낚시마트</td>\n",
       "      <td>\\n제주특별자치도 서귀포시 남원읍 태위로 932\\n(지번) 남원읍 태흥리 483-2\\n</td>\n",
       "      <td>\\n별점\\n0.0\\n\\n\\n\\n0건\\n</td>\n",
       "    </tr>\n",
       "    <tr>\n",
       "      <th>497</th>\n",
       "      <td>유신종합마트</td>\n",
       "      <td>\\n제주특별자치도 제주시 동문로2길 9\\n(지번) 일도일동 1481-2\\n</td>\n",
       "      <td>\\n별점\\n0.0\\n\\n\\n\\n0건\\n</td>\n",
       "    </tr>\n",
       "    <tr>\n",
       "      <th>498</th>\n",
       "      <td>조천농협하나로마트 주차장</td>\n",
       "      <td>\\n제주특별자치도 제주시 조천읍 신북로 240\\n(지번) 조천읍 조천리 2325-1\\n</td>\n",
       "      <td>\\n별점\\n0.0\\n\\n\\n\\n0건\\n</td>\n",
       "    </tr>\n",
       "    <tr>\n",
       "      <th>499</th>\n",
       "      <td>코사마트 추자점</td>\n",
       "      <td>\\n제주특별자치도 제주시 추자면 추자로 18-1\\n(지번) 추자면 대서리 8-9\\n</td>\n",
       "      <td>\\n별점\\n5.0\\n\\n\\n\\n1건\\n</td>\n",
       "    </tr>\n",
       "  </tbody>\n",
       "</table>\n",
       "</div>"
      ],
      "text/plain": [
       "                이름                                                주소  \\\n",
       "495           정희마트        \\n제주특별자치도 제주시 동문로21길 21\\n(지번) 건입동 1043-1\\n   \n",
       "496       한아름 낚시마트  \\n제주특별자치도 서귀포시 남원읍 태위로 932\\n(지번) 남원읍 태흥리 483-2\\n   \n",
       "497         유신종합마트         \\n제주특별자치도 제주시 동문로2길 9\\n(지번) 일도일동 1481-2\\n   \n",
       "498  조천농협하나로마트 주차장  \\n제주특별자치도 제주시 조천읍 신북로 240\\n(지번) 조천읍 조천리 2325-1\\n   \n",
       "499       코사마트 추자점    \\n제주특별자치도 제주시 추자면 추자로 18-1\\n(지번) 추자면 대서리 8-9\\n   \n",
       "\n",
       "                        평점  \n",
       "495  \\n별점\\n0.0\\n\\n\\n\\n0건\\n  \n",
       "496  \\n별점\\n0.0\\n\\n\\n\\n0건\\n  \n",
       "497  \\n별점\\n0.0\\n\\n\\n\\n0건\\n  \n",
       "498  \\n별점\\n0.0\\n\\n\\n\\n0건\\n  \n",
       "499  \\n별점\\n5.0\\n\\n\\n\\n1건\\n  "
      ]
     },
     "execution_count": 7,
     "metadata": {},
     "output_type": "execute_result"
    }
   ],
   "source": [
    "df.tail()"
   ]
  }
 ],
 "metadata": {
  "kernelspec": {
   "display_name": "Python 3",
   "language": "python",
   "name": "python3"
  },
  "language_info": {
   "codemirror_mode": {
    "name": "ipython",
    "version": 3
   },
   "file_extension": ".py",
   "mimetype": "text/x-python",
   "name": "python",
   "nbconvert_exporter": "python",
   "pygments_lexer": "ipython3",
   "version": "3.9.12"
  }
 },
 "nbformat": 4,
 "nbformat_minor": 2
}
