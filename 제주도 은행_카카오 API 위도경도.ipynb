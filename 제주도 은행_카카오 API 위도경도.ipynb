{
 "cells": [
  {
   "cell_type": "code",
   "execution_count": 1,
   "metadata": {},
   "outputs": [],
   "source": [
    "import requests, json\n",
    "import pandas as pd\n",
    "from urllib.parse import quote"
   ]
  },
  {
   "cell_type": "code",
   "execution_count": 2,
   "metadata": {},
   "outputs": [],
   "source": [
    "#API 키 가져오기\n",
    "with open('C:/workspace/kakao.txt') as file:\n",
    "    road_key = file.read()"
   ]
  },
  {
   "cell_type": "code",
   "execution_count": 3,
   "metadata": {},
   "outputs": [],
   "source": [
    "# URL 만들기\n",
    "base_url = 'https://dapi.kakao.com/v2/local/search/address.json'\n",
    "addr = '제주특별자치도 제주시 남광북1길 1 제주법조타워 1,2층'\n",
    "url = f'{base_url}?query={quote(addr)}'"
   ]
  },
  {
   "cell_type": "code",
   "execution_count": 4,
   "metadata": {},
   "outputs": [],
   "source": [
    "#Header : Authorization: KakaoAK ${REST_API_KEY}\n",
    "header = {'Authorization': f'KakaoAK {road_key}'}"
   ]
  },
  {
   "cell_type": "code",
   "execution_count": 5,
   "metadata": {},
   "outputs": [
    {
     "data": {
      "text/plain": [
       "{'documents': [{'address': {'address_name': '제주특별자치도 제주시 이도이동 1065-6',\n",
       "    'b_code': '5011010400',\n",
       "    'h_code': '5011054000',\n",
       "    'main_address_no': '1065',\n",
       "    'mountain_yn': 'N',\n",
       "    'region_1depth_name': '제주특별자치도',\n",
       "    'region_2depth_name': '제주시',\n",
       "    'region_3depth_h_name': '이도2동',\n",
       "    'region_3depth_name': '이도이동',\n",
       "    'sub_address_no': '6',\n",
       "    'x': '126.534320623238',\n",
       "    'y': '33.494593216571'},\n",
       "   'address_name': '제주특별자치도 제주시 남광북1길 1',\n",
       "   'address_type': 'ROAD_ADDR',\n",
       "   'road_address': {'address_name': '제주특별자치도 제주시 남광북1길 1',\n",
       "    'building_name': '제주법조타워',\n",
       "    'main_building_no': '1',\n",
       "    'region_1depth_name': '제주특별자치도',\n",
       "    'region_2depth_name': '제주시',\n",
       "    'region_3depth_name': '이도이동',\n",
       "    'road_name': '남광북1길',\n",
       "    'sub_building_no': '',\n",
       "    'underground_yn': 'N',\n",
       "    'x': '126.534320623238',\n",
       "    'y': '33.494593216571',\n",
       "    'zone_no': '63223'},\n",
       "   'x': '126.534320623238',\n",
       "   'y': '33.494593216571'}],\n",
       " 'meta': {'is_end': True, 'pageable_count': 1, 'total_count': 1}}"
      ]
     },
     "execution_count": 5,
     "metadata": {},
     "output_type": "execute_result"
    }
   ],
   "source": [
    "#Kakao Local API 호출하여 결과 가져오기\n",
    "result = requests.get(url, headers=header).json()\n",
    "result"
   ]
  },
  {
   "cell_type": "code",
   "execution_count": 6,
   "metadata": {},
   "outputs": [],
   "source": [
    "lat = result['documents'][0]['y'] #위도(latitude)\n",
    "lng = result['documents'][0]['x'] #경도(latitude)\n",
    "dong=result['documents'][0]['address']['region_3depth_name']"
   ]
  },
  {
   "cell_type": "code",
   "execution_count": 7,
   "metadata": {},
   "outputs": [
    {
     "data": {
      "text/plain": [
       "('33.494593216571', '126.534320623238', '이도이동')"
      ]
     },
     "execution_count": 7,
     "metadata": {},
     "output_type": "execute_result"
    }
   ],
   "source": [
    "lat, lng, dong"
   ]
  },
  {
   "cell_type": "code",
   "execution_count": 9,
   "metadata": {},
   "outputs": [
    {
     "data": {
      "text/html": [
       "<div>\n",
       "<style scoped>\n",
       "    .dataframe tbody tr th:only-of-type {\n",
       "        vertical-align: middle;\n",
       "    }\n",
       "\n",
       "    .dataframe tbody tr th {\n",
       "        vertical-align: top;\n",
       "    }\n",
       "\n",
       "    .dataframe thead th {\n",
       "        text-align: right;\n",
       "    }\n",
       "</style>\n",
       "<table border=\"1\" class=\"dataframe\">\n",
       "  <thead>\n",
       "    <tr style=\"text-align: right;\">\n",
       "      <th></th>\n",
       "      <th>은행명</th>\n",
       "      <th>주소</th>\n",
       "    </tr>\n",
       "  </thead>\n",
       "  <tbody>\n",
       "    <tr>\n",
       "      <th>0</th>\n",
       "      <td>KB국민은행 제주종합금융센터</td>\n",
       "      <td>제주특별자치도 제주시 남광북1길 1 제주법조타워 1,2층</td>\n",
       "    </tr>\n",
       "    <tr>\n",
       "      <th>1</th>\n",
       "      <td>KB국민은행 연북로지점</td>\n",
       "      <td>제주특별자치도 제주시 연북로 50</td>\n",
       "    </tr>\n",
       "    <tr>\n",
       "      <th>2</th>\n",
       "      <td>하나은행 제주금융센터</td>\n",
       "      <td>제주특별자치도 제주시 중앙로 58</td>\n",
       "    </tr>\n",
       "    <tr>\n",
       "      <th>3</th>\n",
       "      <td>신한은행 제주지점</td>\n",
       "      <td>제주특별자치도 제주시 중앙로 166</td>\n",
       "    </tr>\n",
       "    <tr>\n",
       "      <th>4</th>\n",
       "      <td>하나은행 신제주지점</td>\n",
       "      <td>제주특별자치도 제주시 1100로 3308 1층</td>\n",
       "    </tr>\n",
       "    <tr>\n",
       "      <th>...</th>\n",
       "      <td>...</td>\n",
       "      <td>...</td>\n",
       "    </tr>\n",
       "    <tr>\n",
       "      <th>157</th>\n",
       "      <td>태흥새마을금고 제1분사무소</td>\n",
       "      <td>제주특별자치도 서귀포시 남원읍 태위로 810</td>\n",
       "    </tr>\n",
       "    <tr>\n",
       "      <th>158</th>\n",
       "      <td>스마트저축은행 제주여신전문출장소</td>\n",
       "      <td>제주특별자치도 제주시 중앙로 386 2층</td>\n",
       "    </tr>\n",
       "    <tr>\n",
       "      <th>159</th>\n",
       "      <td>삼호저축은행 제주지점</td>\n",
       "      <td>제주특별자치도 제주시 중앙로 535</td>\n",
       "    </tr>\n",
       "    <tr>\n",
       "      <th>160</th>\n",
       "      <td>한국투자저축은행 제주여신전문출장소</td>\n",
       "      <td>제주특별자치도 제주시 노형로 407 노형타워 4층</td>\n",
       "    </tr>\n",
       "    <tr>\n",
       "      <th>161</th>\n",
       "      <td>제이티친애저축은행 채권관리 제주센터</td>\n",
       "      <td>제주특별자치도 제주시 청사로 11 주연빌딩 3층</td>\n",
       "    </tr>\n",
       "  </tbody>\n",
       "</table>\n",
       "<p>162 rows × 2 columns</p>\n",
       "</div>"
      ],
      "text/plain": [
       "                     은행명                                 주소\n",
       "0        KB국민은행 제주종합금융센터   제주특별자치도 제주시 남광북1길 1 제주법조타워 1,2층 \n",
       "1           KB국민은행 연북로지점                제주특별자치도 제주시 연북로 50 \n",
       "2            하나은행 제주금융센터                제주특별자치도 제주시 중앙로 58 \n",
       "3              신한은행 제주지점               제주특별자치도 제주시 중앙로 166 \n",
       "4             하나은행 신제주지점         제주특별자치도 제주시 1100로 3308 1층 \n",
       "..                   ...                                ...\n",
       "157       태흥새마을금고 제1분사무소          제주특별자치도 서귀포시 남원읍 태위로 810 \n",
       "158    스마트저축은행 제주여신전문출장소            제주특별자치도 제주시 중앙로 386 2층 \n",
       "159          삼호저축은행 제주지점               제주특별자치도 제주시 중앙로 535 \n",
       "160   한국투자저축은행 제주여신전문출장소       제주특별자치도 제주시 노형로 407 노형타워 4층 \n",
       "161  제이티친애저축은행 채권관리 제주센터         제주특별자치도 제주시 청사로 11 주연빌딩 3층\n",
       "\n",
       "[162 rows x 2 columns]"
      ]
     },
     "execution_count": 9,
     "metadata": {},
     "output_type": "execute_result"
    }
   ],
   "source": [
    "#제주도 은행 정보 완성하기\n",
    "df = pd.read_csv(\"./제주도 은행지점 및 ATM 목록.csv\")\n",
    "df"
   ]
  },
  {
   "cell_type": "code",
   "execution_count": 10,
   "metadata": {},
   "outputs": [
    {
     "name": "stdout",
     "output_type": "stream",
     "text": [
      "호남새마을금고 도남지점\n",
      "제주은행 제주특별자치도지점\n"
     ]
    }
   ],
   "source": [
    "lat_list, lng_list, dong_list = [], [], [] #빈 리스트 생성. 위도와 경도 값 저장\n",
    "for i in df.index: #df의 각 행에 대해 반복\n",
    "    url = f'{base_url}?query={quote(df[\"주소\"][i])}'\n",
    "    result = requests.get(url, headers=header).json() #API에 요청을 보내고 응답을 JSON 형식으로 받음\n",
    "    try:\n",
    "        lat_list.append(result['documents'][0]['y']) #위도(y) 추출하여 lat_list에 추가\n",
    "        lng_list.append(result['documents'][0]['x']) #경도(x) 추출하여 lng_list에 추가\n",
    "        dong_list.append(result['documents'][0]['address']['region_3depth_name'])\n",
    "    except:\n",
    "        print(df.은행명[i])  \n",
    "#try-except 구문: try블록 실행 중 예외 발생 시 except블록 실행"
   ]
  },
  {
   "cell_type": "code",
   "execution_count": 11,
   "metadata": {},
   "outputs": [
    {
     "data": {
      "text/plain": [
       "97     제주특별자치도 제주시 청사로 85 103,105호 \n",
       "Name: 주소, dtype: object"
      ]
     },
     "execution_count": 11,
     "metadata": {},
     "output_type": "execute_result"
    }
   ],
   "source": [
    "df[df.은행명.isin(['호남새마을금고 도남지점'])].주소"
   ]
  },
  {
   "cell_type": "code",
   "execution_count": 12,
   "metadata": {},
   "outputs": [
    {
     "data": {
      "text/plain": [
       "은행명          호남새마을금고 도남지점\n",
       "주소     제주특별자치도 제주시 청사로 85\n",
       "Name: 97, dtype: object"
      ]
     },
     "execution_count": 12,
     "metadata": {},
     "output_type": "execute_result"
    }
   ],
   "source": [
    "#카카오맵에서 직접 검색해서 주소 수정\n",
    "df.iloc[97]['주소'] = '제주특별자치도 제주시 청사로 85'\n",
    "df.iloc[97]"
   ]
  },
  {
   "cell_type": "code",
   "execution_count": 13,
   "metadata": {},
   "outputs": [
    {
     "data": {
      "text/plain": [
       "122     제주특별자치도 제주시 문연로 6 제2별관 1층 \n",
       "Name: 주소, dtype: object"
      ]
     },
     "execution_count": 13,
     "metadata": {},
     "output_type": "execute_result"
    }
   ],
   "source": [
    "df[df.은행명.isin(['제주은행 제주특별자치도지점'])].주소"
   ]
  },
  {
   "cell_type": "code",
   "execution_count": 14,
   "metadata": {},
   "outputs": [
    {
     "data": {
      "text/plain": [
       "은행명       제주은행 제주특별자치도지점\n",
       "주소     제주특별자치도 제주시 문연로 6\n",
       "Name: 122, dtype: object"
      ]
     },
     "execution_count": 14,
     "metadata": {},
     "output_type": "execute_result"
    }
   ],
   "source": [
    "#카카오맵에서 직접 검색해서 주소 수정\n",
    "df.iloc[122]['주소'] = '제주특별자치도 제주시 문연로 6'\n",
    "df.iloc[122]"
   ]
  },
  {
   "cell_type": "code",
   "execution_count": 15,
   "metadata": {},
   "outputs": [],
   "source": [
    "#수정된 데이터로 다시 위도경도 받아오기\n",
    "lat_list, lng_list, dong_list = [], [], [] #빈 리스트 생성. 위도와 경도 값 저장\n",
    "for i in df.index: #df의 각 행에 대해 반복\n",
    "    url = f'{base_url}?query={quote(df[\"주소\"][i])}'\n",
    "    result = requests.get(url, headers=header).json() #API에 요청을 보내고 응답을 JSON 형식으로 받음\n",
    "    try:\n",
    "        lat_list.append(result['documents'][0]['y']) #위도(y) 추출하여 lat_list에 추가\n",
    "        lng_list.append(result['documents'][0]['x']) #경도(x) 추출하여 lng_list에 추가\n",
    "        dong_list.append(result['documents'][0]['address']['region_3depth_name'])\n",
    "    except:\n",
    "        print(df.은행명[i])\n",
    "#try-except 구문: try블록 실행 중 예외 발생 시 except블록 실행"
   ]
  },
  {
   "cell_type": "code",
   "execution_count": 16,
   "metadata": {},
   "outputs": [],
   "source": [
    "df['위도']=lat_list\n",
    "df['경도']=lng_list\n",
    "df['주소2']=dong_list"
   ]
  },
  {
   "cell_type": "code",
   "execution_count": 17,
   "metadata": {},
   "outputs": [
    {
     "data": {
      "text/plain": [
       "['이도이동',\n",
       " '노형동',\n",
       " '일도일동',\n",
       " '이도일동',\n",
       " '노형동',\n",
       " '일도일동',\n",
       " '노형동',\n",
       " '노형동',\n",
       " '서귀동',\n",
       " '서귀동',\n",
       " '강정동',\n",
       " '서귀동',\n",
       " '아라이동',\n",
       " '이도일동',\n",
       " '서호동',\n",
       " '연동',\n",
       " '삼도일동',\n",
       " '삼도일동',\n",
       " '이도일동',\n",
       " '이도이동',\n",
       " '노형동',\n",
       " '일도이동',\n",
       " '용담일동',\n",
       " '연동',\n",
       " '노형동',\n",
       " '이도이동',\n",
       " '노형동',\n",
       " '노형동',\n",
       " '서홍동',\n",
       " '강정동',\n",
       " '오라일동',\n",
       " '노형동',\n",
       " '서귀동',\n",
       " '노형동',\n",
       " '이도이동',\n",
       " '동홍동',\n",
       " '서귀동',\n",
       " '이도이동',\n",
       " '영평동',\n",
       " '연동',\n",
       " '아라일동',\n",
       " '이도이동',\n",
       " '이도이동',\n",
       " '일도이동',\n",
       " '노형동',\n",
       " '이도일동',\n",
       " '연동',\n",
       " '용담이동',\n",
       " '이도이동',\n",
       " '외도일동',\n",
       " '서귀동',\n",
       " '노형동',\n",
       " '연동',\n",
       " '한림읍 한림리',\n",
       " '도련일동',\n",
       " '연동',\n",
       " '아라일동',\n",
       " '도남동',\n",
       " '이도일동',\n",
       " '표선면 표선리',\n",
       " '아라일동',\n",
       " '도남동',\n",
       " '용담일동',\n",
       " '용담일동',\n",
       " '화북일동',\n",
       " '서귀동',\n",
       " '외도일동',\n",
       " '이도일동',\n",
       " '이도이동',\n",
       " '노형동',\n",
       " '호근동',\n",
       " '삼도이동',\n",
       " '동홍동',\n",
       " '일도일동',\n",
       " '대정읍 하모리',\n",
       " '노형동',\n",
       " '일도이동',\n",
       " '동홍동',\n",
       " '용담이동',\n",
       " '성산읍 고성리',\n",
       " '노형동',\n",
       " '서홍동',\n",
       " '연동',\n",
       " '이도이동',\n",
       " '서홍동',\n",
       " '애월읍 하귀2리',\n",
       " '노형동',\n",
       " '한림읍 한림리',\n",
       " '이도이동',\n",
       " '삼양이동',\n",
       " '삼도일동',\n",
       " '노형동',\n",
       " '동홍동',\n",
       " '삼도일동',\n",
       " '용담이동',\n",
       " '연동',\n",
       " '조천읍 조천리',\n",
       " '도남동',\n",
       " '중문동',\n",
       " '연동',\n",
       " '강정동',\n",
       " '노형동',\n",
       " '이도이동',\n",
       " '도련일동',\n",
       " '연동',\n",
       " '법환동',\n",
       " '도남동',\n",
       " '노형동',\n",
       " '연동',\n",
       " '아라이동',\n",
       " '일도일동',\n",
       " '서호동',\n",
       " '애월읍 납읍리',\n",
       " '도련일동',\n",
       " '한림읍 귀덕리',\n",
       " '애월읍 장전리',\n",
       " '연동',\n",
       " '대정읍 하모리',\n",
       " '일도일동',\n",
       " '법환동',\n",
       " '남원읍 남원리',\n",
       " '애월읍 곽지리',\n",
       " '연동',\n",
       " '아라일동',\n",
       " '건입동',\n",
       " '남원읍 남원리',\n",
       " '남원읍 태흥리',\n",
       " '해안동',\n",
       " '상예동',\n",
       " '노형동',\n",
       " '애월읍 신엄리',\n",
       " '연동',\n",
       " '서홍동',\n",
       " '서귀동',\n",
       " '남원읍 신례리',\n",
       " '서귀동',\n",
       " '하원동',\n",
       " '구좌읍 김녕리',\n",
       " '회수동',\n",
       " '대포동',\n",
       " '건입동',\n",
       " '중문동',\n",
       " '안덕면 덕수리',\n",
       " '성산읍 고성리',\n",
       " '남원읍 의귀리',\n",
       " '중문동',\n",
       " '도순동',\n",
       " '조천읍 신촌리',\n",
       " '남원읍 남원리',\n",
       " '서홍동',\n",
       " '서호동',\n",
       " '상효동',\n",
       " '동홍동',\n",
       " '애월읍 광령리',\n",
       " '동홍동',\n",
       " '서귀동',\n",
       " '성산읍 성산리',\n",
       " '남원읍 태흥리',\n",
       " '이도이동',\n",
       " '아라일동',\n",
       " '노형동',\n",
       " '도남동']"
      ]
     },
     "execution_count": 17,
     "metadata": {},
     "output_type": "execute_result"
    }
   ],
   "source": [
    "#제주도 은행 위도 경도 동 리스트\n",
    "lat_list\n",
    "lng_list\n",
    "dong_list"
   ]
  },
  {
   "cell_type": "code",
   "execution_count": 18,
   "metadata": {},
   "outputs": [],
   "source": [
    "df.to_csv(\"제주도 은행지점 및 ATM 목록.csv\", index=False)"
   ]
  },
  {
   "cell_type": "code",
   "execution_count": 19,
   "metadata": {},
   "outputs": [
    {
     "data": {
      "text/html": [
       "<div>\n",
       "<style scoped>\n",
       "    .dataframe tbody tr th:only-of-type {\n",
       "        vertical-align: middle;\n",
       "    }\n",
       "\n",
       "    .dataframe tbody tr th {\n",
       "        vertical-align: top;\n",
       "    }\n",
       "\n",
       "    .dataframe thead th {\n",
       "        text-align: right;\n",
       "    }\n",
       "</style>\n",
       "<table border=\"1\" class=\"dataframe\">\n",
       "  <thead>\n",
       "    <tr style=\"text-align: right;\">\n",
       "      <th></th>\n",
       "      <th>은행명</th>\n",
       "      <th>주소</th>\n",
       "      <th>위도</th>\n",
       "      <th>경도</th>\n",
       "      <th>주소2</th>\n",
       "    </tr>\n",
       "  </thead>\n",
       "  <tbody>\n",
       "    <tr>\n",
       "      <th>0</th>\n",
       "      <td>KB국민은행 제주종합금융센터</td>\n",
       "      <td>제주특별자치도 제주시 남광북1길 1 제주법조타워 1,2층</td>\n",
       "      <td>33.494593</td>\n",
       "      <td>126.534321</td>\n",
       "      <td>이도이동</td>\n",
       "    </tr>\n",
       "    <tr>\n",
       "      <th>1</th>\n",
       "      <td>KB국민은행 연북로지점</td>\n",
       "      <td>제주특별자치도 제주시 연북로 50</td>\n",
       "      <td>33.481592</td>\n",
       "      <td>126.486661</td>\n",
       "      <td>노형동</td>\n",
       "    </tr>\n",
       "    <tr>\n",
       "      <th>2</th>\n",
       "      <td>하나은행 제주금융센터</td>\n",
       "      <td>제주특별자치도 제주시 중앙로 58</td>\n",
       "      <td>33.512922</td>\n",
       "      <td>126.524205</td>\n",
       "      <td>일도일동</td>\n",
       "    </tr>\n",
       "    <tr>\n",
       "      <th>3</th>\n",
       "      <td>신한은행 제주지점</td>\n",
       "      <td>제주특별자치도 제주시 중앙로 166</td>\n",
       "      <td>33.504033</td>\n",
       "      <td>126.526443</td>\n",
       "      <td>이도일동</td>\n",
       "    </tr>\n",
       "    <tr>\n",
       "      <th>4</th>\n",
       "      <td>하나은행 신제주지점</td>\n",
       "      <td>제주특별자치도 제주시 1100로 3308 1층</td>\n",
       "      <td>33.481632</td>\n",
       "      <td>126.481719</td>\n",
       "      <td>노형동</td>\n",
       "    </tr>\n",
       "    <tr>\n",
       "      <th>...</th>\n",
       "      <td>...</td>\n",
       "      <td>...</td>\n",
       "      <td>...</td>\n",
       "      <td>...</td>\n",
       "      <td>...</td>\n",
       "    </tr>\n",
       "    <tr>\n",
       "      <th>157</th>\n",
       "      <td>태흥새마을금고 제1분사무소</td>\n",
       "      <td>제주특별자치도 서귀포시 남원읍 태위로 810</td>\n",
       "      <td>33.282822</td>\n",
       "      <td>126.732440</td>\n",
       "      <td>남원읍 태흥리</td>\n",
       "    </tr>\n",
       "    <tr>\n",
       "      <th>158</th>\n",
       "      <td>스마트저축은행 제주여신전문출장소</td>\n",
       "      <td>제주특별자치도 제주시 중앙로 386 2층</td>\n",
       "      <td>33.487872</td>\n",
       "      <td>126.539872</td>\n",
       "      <td>이도이동</td>\n",
       "    </tr>\n",
       "    <tr>\n",
       "      <th>159</th>\n",
       "      <td>삼호저축은행 제주지점</td>\n",
       "      <td>제주특별자치도 제주시 중앙로 535</td>\n",
       "      <td>33.475712</td>\n",
       "      <td>126.545205</td>\n",
       "      <td>아라일동</td>\n",
       "    </tr>\n",
       "    <tr>\n",
       "      <th>160</th>\n",
       "      <td>한국투자저축은행 제주여신전문출장소</td>\n",
       "      <td>제주특별자치도 제주시 노형로 407 노형타워 4층</td>\n",
       "      <td>33.485821</td>\n",
       "      <td>126.478301</td>\n",
       "      <td>노형동</td>\n",
       "    </tr>\n",
       "    <tr>\n",
       "      <th>161</th>\n",
       "      <td>제이티친애저축은행 채권관리 제주센터</td>\n",
       "      <td>제주특별자치도 제주시 청사로 11 주연빌딩 3층</td>\n",
       "      <td>33.490092</td>\n",
       "      <td>126.520159</td>\n",
       "      <td>도남동</td>\n",
       "    </tr>\n",
       "  </tbody>\n",
       "</table>\n",
       "<p>162 rows × 5 columns</p>\n",
       "</div>"
      ],
      "text/plain": [
       "                     은행명                                 주소         위도  \\\n",
       "0        KB국민은행 제주종합금융센터   제주특별자치도 제주시 남광북1길 1 제주법조타워 1,2층   33.494593   \n",
       "1           KB국민은행 연북로지점                제주특별자치도 제주시 연북로 50   33.481592   \n",
       "2            하나은행 제주금융센터                제주특별자치도 제주시 중앙로 58   33.512922   \n",
       "3              신한은행 제주지점               제주특별자치도 제주시 중앙로 166   33.504033   \n",
       "4             하나은행 신제주지점         제주특별자치도 제주시 1100로 3308 1층   33.481632   \n",
       "..                   ...                                ...        ...   \n",
       "157       태흥새마을금고 제1분사무소          제주특별자치도 서귀포시 남원읍 태위로 810   33.282822   \n",
       "158    스마트저축은행 제주여신전문출장소            제주특별자치도 제주시 중앙로 386 2층   33.487872   \n",
       "159          삼호저축은행 제주지점               제주특별자치도 제주시 중앙로 535   33.475712   \n",
       "160   한국투자저축은행 제주여신전문출장소       제주특별자치도 제주시 노형로 407 노형타워 4층   33.485821   \n",
       "161  제이티친애저축은행 채권관리 제주센터         제주특별자치도 제주시 청사로 11 주연빌딩 3층  33.490092   \n",
       "\n",
       "             경도      주소2  \n",
       "0    126.534321     이도이동  \n",
       "1    126.486661      노형동  \n",
       "2    126.524205     일도일동  \n",
       "3    126.526443     이도일동  \n",
       "4    126.481719      노형동  \n",
       "..          ...      ...  \n",
       "157  126.732440  남원읍 태흥리  \n",
       "158  126.539872     이도이동  \n",
       "159  126.545205     아라일동  \n",
       "160  126.478301      노형동  \n",
       "161  126.520159      도남동  \n",
       "\n",
       "[162 rows x 5 columns]"
      ]
     },
     "execution_count": 19,
     "metadata": {},
     "output_type": "execute_result"
    }
   ],
   "source": [
    "pd.read_csv('./제주도 은행지점 및 ATM 목록.csv')"
   ]
  }
 ],
 "metadata": {
  "kernelspec": {
   "display_name": "Python 3",
   "language": "python",
   "name": "python3"
  },
  "language_info": {
   "codemirror_mode": {
    "name": "ipython",
    "version": 3
   },
   "file_extension": ".py",
   "mimetype": "text/x-python",
   "name": "python",
   "nbconvert_exporter": "python",
   "pygments_lexer": "ipython3",
   "version": "3.9.12"
  }
 },
 "nbformat": 4,
 "nbformat_minor": 2
}
