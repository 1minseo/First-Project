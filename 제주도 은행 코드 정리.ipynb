{
 "cells": [
  {
   "cell_type": "markdown",
   "metadata": {},
   "source": [
    "'제주도 은행' 카카오맵 크롤링"
   ]
  },
  {
   "cell_type": "code",
   "execution_count": 7,
   "metadata": {},
   "outputs": [],
   "source": [
    "from selenium import webdriver\n",
    "from bs4 import BeautifulSoup as bs\n",
    "import time\n",
    "import pandas as pd\n",
    "import numpy as np\n",
    "from selenium import webdriver\n",
    "from selenium.webdriver.common.keys import Keys\n",
    "from selenium.webdriver.common.by import By"
   ]
  },
  {
   "cell_type": "code",
   "execution_count": 8,
   "metadata": {},
   "outputs": [],
   "source": [
    "url = 'https://map.kakao.com'\n",
    "driver = webdriver.Chrome()\n",
    "driver.get(url)\n",
    "\n",
    "# 지도 설정 이미지 클릭\n",
    "img = driver.find_element(By.CLASS_NAME, 'inner_coach_layer')\n",
    "img.click()\n",
    "\n",
    "# 검색창에 '제주도 은행' 입력\n",
    "search=driver.find_element(By.ID, 'search.keyword.query')\n",
    "search.send_keys(\"제주도 은행\")\n",
    "\n",
    "driver.find_element(By.CLASS_NAME, 'go.ico_search.btn_search.active').click()\n",
    "\n",
    "soup = bs(driver.page_source,\"lxml\")"
   ]
  },
  {
   "cell_type": "code",
   "execution_count": 9,
   "metadata": {},
   "outputs": [],
   "source": [
    "# 은행 이름\n",
    "title = soup.select(\"a.link_name\")\n",
    "\n",
    "for i in title:\n",
    "    print(i.text)\n",
    "\n",
    "# 은행 주소\n",
    "addr = soup.select('.addr')\n",
    "\n",
    "for i in addr:\n",
    "    print(i.text)\n",
    "\n",
    "# 은행 평점\n",
    "score = soup.select(\".rating.clickArea > .score\")\n",
    "\n",
    "for i in score:\n",
    "    print(i.text)        "
   ]
  },
  {
   "cell_type": "code",
   "execution_count": 12,
   "metadata": {},
   "outputs": [],
   "source": [
    "# 페이지 번호 수집\n",
    "page = driver.find_elements(By.ID, \"info.search.page > div > a\")\n",
    "\n",
    "for i in range(2, 6):\n",
    "    driver.find_element(By.ID, f\"info.search.page.no{i}\").click()"
   ]
  },
  {
   "cell_type": "markdown",
   "metadata": {},
   "source": [
    "전처리"
   ]
  },
  {
   "cell_type": "code",
   "execution_count": null,
   "metadata": {},
   "outputs": [],
   "source": [
    "# 데이터 불러오기\n",
    "df=pd.read_excel(\"./제주도 은행_크롤링 결과.xlsx\")\n",
    "df.head()"
   ]
  },
  {
   "cell_type": "code",
   "execution_count": null,
   "metadata": {},
   "outputs": [],
   "source": [
    "# 불필요한 컬럼 삭제\n",
    "df.drop(columns=['Column1', '평점'], inplace=True) # 원본에 그대로 적용\n",
    "\n",
    "df['주소'] = df['주소'].str.replace('\\n', ' ')\n",
    "\n",
    "df.rename(columns={'이름':'은행명'}, inplace=True)"
   ]
  },
  {
   "cell_type": "code",
   "execution_count": null,
   "metadata": {},
   "outputs": [],
   "source": [
    "df['은행명'].unique()"
   ]
  },
  {
   "cell_type": "code",
   "execution_count": null,
   "metadata": {},
   "outputs": [],
   "source": [
    "# index를 포함하지 않고 데이터 저장\n",
    "df.to_csv(\"제주도 은행지점 및 ATM 목록.csv\", index=False)"
   ]
  },
  {
   "cell_type": "code",
   "execution_count": null,
   "metadata": {},
   "outputs": [],
   "source": [
    "# 데이터 불러오기\n",
    "df=pd.read_csv(\"./제주도 은행지점 및 ATM 목록.csv\")\n",
    "df.head()"
   ]
  },
  {
   "cell_type": "code",
   "execution_count": null,
   "metadata": {},
   "outputs": [],
   "source": [
    "# 분할된 결과를 새로운 df에 저장\n",
    "split_addr=df['주소'].str.split(\"(\", expand=True) # 분할된 결과를 여러 열로 확장하여 반환\n",
    "\n",
    "# 기존 df에 새로운 열로 추가\n",
    "df['주소2'] = split_addr[0]\n",
    "\n",
    "# 불필요한 컬럼 삭제\n",
    "df.drop(columns=['주소'], inplace=True) # 원본에 그대로 적용\n",
    "\n",
    "# 컬럼명 변경\n",
    "df.rename(columns={'주소2':'주소'}, inplace=True)"
   ]
  },
  {
   "cell_type": "code",
   "execution_count": null,
   "metadata": {},
   "outputs": [],
   "source": [
    "# ATM 관련 데이터 삭제\n",
    "\n",
    "idx=df[df['은행명'].str.contains('365')].index\n",
    "df=df.drop(idx)\n",
    "\n",
    "idx=df[df['은행명'].str.contains('ATM')].index\n",
    "df=df.drop(idx)"
   ]
  },
  {
   "cell_type": "code",
   "execution_count": null,
   "metadata": {},
   "outputs": [],
   "source": [
    "df.to_csv(\"제주도 은행 목록.csv\", index=False)"
   ]
  },
  {
   "cell_type": "markdown",
   "metadata": {},
   "source": [
    "카카오 API 위도경도"
   ]
  },
  {
   "cell_type": "code",
   "execution_count": null,
   "metadata": {},
   "outputs": [],
   "source": [
    "# API 키 가져오기\n",
    "with open('C:/workspace/kakao.txt') as file:\n",
    "    road_key = file.read()\n",
    "\n",
    "# URL 만들기\n",
    "base_url = 'https://dapi.kakao.com/v2/local/search/address.json'\n",
    "addr = '제주특별자치도 제주시 남광북1길 1 제주법조타워 1,2층'\n",
    "url = f'{base_url}?query={quote(addr)}'\n",
    "\n",
    "# Header : Authorization: KakaoAK ${REST_API_KEY}\n",
    "header = {'Authorization': f'KakaoAK {road_key}'}\n",
    "\n",
    "# Kakao Local API 호출하여 결과 가져오기\n",
    "result = requests.get(url, headers=header).json()\n",
    "result"
   ]
  },
  {
   "cell_type": "code",
   "execution_count": null,
   "metadata": {},
   "outputs": [],
   "source": [
    "lat = result['documents'][0]['y'] # 위도(latitude)\n",
    "lng = result['documents'][0]['x'] # 경도(latitude)\n",
    "dong=result['documents'][0]['address']['region_3depth_name']"
   ]
  },
  {
   "cell_type": "code",
   "execution_count": null,
   "metadata": {},
   "outputs": [],
   "source": [
    "# 제주도 은행 정보 완성하기\n",
    "df = pd.read_csv(\"./제주도 은행 목록.csv\")"
   ]
  },
  {
   "cell_type": "code",
   "execution_count": null,
   "metadata": {},
   "outputs": [],
   "source": [
    "lat_list, lng_list, dong_list = [], [], [] # 빈 리스트 생성. 위도와 경도 값 저장\n",
    "for i in df.index: # df의 각 행에 대해 반복\n",
    "    url = f'{base_url}?query={quote(df[\"주소\"][i])}'\n",
    "    result = requests.get(url, headers=header).json() # API에 요청을 보내고 응답을 JSON 형식으로 받음\n",
    "    try:\n",
    "        lat_list.append(result['documents'][0]['y']) # 위도(y) 추출하여 lat_list에 추가\n",
    "        lng_list.append(result['documents'][0]['x']) # 경도(x) 추출하여 lng_list에 추가\n",
    "        dong_list.append(result['documents'][0]['address']['region_3depth_name'])\n",
    "    except:\n",
    "        print(df.은행명[i])  \n",
    "# try-except 구문: try블록 실행 중 예외 발생 시 except블록 실행"
   ]
  },
  {
   "cell_type": "code",
   "execution_count": null,
   "metadata": {},
   "outputs": [],
   "source": [
    "df[df.은행명.isin(['호남새마을금고 도남지점'])].주소"
   ]
  },
  {
   "cell_type": "code",
   "execution_count": null,
   "metadata": {},
   "outputs": [],
   "source": [
    "#카카오맵에서 직접 검색해서 주소 수정\n",
    "df.iloc[97]['주소'] = '제주특별자치도 제주시 청사로 85'\n",
    "df.iloc[97]"
   ]
  },
  {
   "cell_type": "code",
   "execution_count": null,
   "metadata": {},
   "outputs": [],
   "source": [
    "df[df.은행명.isin(['제주은행 제주특별자치도지점'])].주소"
   ]
  },
  {
   "cell_type": "code",
   "execution_count": null,
   "metadata": {},
   "outputs": [],
   "source": [
    "#카카오맵에서 직접 검색해서 주소 수정\n",
    "df.iloc[122]['주소'] = '제주특별자치도 제주시 문연로 6'\n",
    "df.iloc[122]"
   ]
  },
  {
   "cell_type": "code",
   "execution_count": null,
   "metadata": {},
   "outputs": [],
   "source": [
    "# 수정된 데이터로 다시 위도경도 받아오기\n",
    "lat_list, lng_list, dong_list = [], [], [] # 빈 리스트 생성. 위도와 경도 값 저장\n",
    "for i in df.index: # df의 각 행에 대해 반복\n",
    "    url = f'{base_url}?query={quote(df[\"주소\"][i])}'\n",
    "    result = requests.get(url, headers=header).json() # API에 요청을 보내고 응답을 JSON 형식으로 받음\n",
    "    try:\n",
    "        lat_list.append(result['documents'][0]['y']) # 위도(y) 추출하여 lat_list에 추가\n",
    "        lng_list.append(result['documents'][0]['x']) # 경도(x) 추출하여 lng_list에 추가\n",
    "        dong_list.append(result['documents'][0]['address']['region_3depth_name'])\n",
    "    except:\n",
    "        print(df.은행명[i])\n",
    "# try-except 구문: try블록 실행 중 예외 발생 시 except블록 실행"
   ]
  },
  {
   "cell_type": "code",
   "execution_count": null,
   "metadata": {},
   "outputs": [],
   "source": [
    "df['위도']=lat_list\n",
    "df['경도']=lng_list\n",
    "df['주소2']=dong_list\n",
    "\n",
    "# 제주도 기념품샵 위도 경도 동 리스트\n",
    "lat_list\n",
    "lng_list\n",
    "dong_list"
   ]
  },
  {
   "cell_type": "code",
   "execution_count": null,
   "metadata": {},
   "outputs": [],
   "source": [
    "df.to_csv(\"제주도 은행 목록.csv\", index=False)"
   ]
  },
  {
   "cell_type": "markdown",
   "metadata": {},
   "source": [
    "지도 시각화"
   ]
  },
  {
   "cell_type": "code",
   "execution_count": null,
   "metadata": {},
   "outputs": [],
   "source": [
    "pd.read_csv('./제주도 은행 목록.csv')"
   ]
  },
  {
   "cell_type": "code",
   "execution_count": null,
   "metadata": {},
   "outputs": [],
   "source": [
    "import folium\n",
    "import pandas as pd\n",
    "\n",
    "# folium.Map() 함수 사용하여 지도 객체 생성하기\n",
    "# df의 위도와 경도 열의 평균값인 위치에 해당하는 지도를 생성하고 확대 수준을 10으로 설정\n",
    "map=folium.Map(location=[df.위도.mean(), df.경도.mean()], zoom_start=10)\n",
    "map"
   ]
  },
  {
   "cell_type": "code",
   "execution_count": null,
   "metadata": {},
   "outputs": [],
   "source": [
    "# 제주시(blue)-서귀포시(green) 구분해서 folium.Marker\n",
    "tiles = \"http://mt0.google.com/vt/lyrs=m&hl=ko&x={x}&y={y}&z={z}\" # 구글지도 타일 설정\n",
    "attr= \"Google\" # 속성 설정\n",
    "map = folium.Map(location=[df['위도'].mean(), df['경도'].mean()], # folium을 사용하여 지도 초기화\n",
    "                 zoom_start=10, tiles=tiles, attr=attr)\n",
    "for i in df.index: # df의 각 행을 반복\n",
    "    if '제주시' in df.loc[i, '주소']:\n",
    "        folium.Marker(\n",
    "            location=[df.loc[i, '위도'], df.loc[i, '경도']],\n",
    "            tooltip=df.loc[i, '은행명'], # 마커에 마우스를 올렸을 때 표시되는 툴팁으로 병원명 표시\n",
    "            popup=folium.Popup(df.loc[i, '주소'], max_width=200),\n",
    "            icon=folium.Icon(color='green', icon='glyphicon-usd')\n",
    "        ).add_to(map)\n",
    "    else:\n",
    "        folium.Marker(\n",
    "            location=[df.loc[i, '위도'], df.loc[i, '경도']],\n",
    "            tooltip=df.loc[i, '은행명'], # 마커에 마우스를 올렸을 때 표시되는 툴팁으로 병원명 표시\n",
    "            popup=folium.Popup(df.loc[i, '주소'], max_width=200),\n",
    "            icon=folium.Icon(color='blue', icon='glyphicon-usd')\n",
    "        ).add_to(map)\n",
    "\n",
    "map        "
   ]
  }
 ],
 "metadata": {
  "kernelspec": {
   "display_name": "Python 3",
   "language": "python",
   "name": "python3"
  },
  "language_info": {
   "codemirror_mode": {
    "name": "ipython",
    "version": 3
   },
   "file_extension": ".py",
   "mimetype": "text/x-python",
   "name": "python",
   "nbconvert_exporter": "python",
   "pygments_lexer": "ipython3",
   "version": "3.9.12"
  }
 },
 "nbformat": 4,
 "nbformat_minor": 2
}
